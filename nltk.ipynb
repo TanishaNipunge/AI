{
 "cells": [
  {
   "cell_type": "code",
   "execution_count": 2,
   "id": "5c4d69e1-fcbb-40ce-be49-878ee816a983",
   "metadata": {},
   "outputs": [],
   "source": [
    "import nltk\n",
    "from nltk.corpus import stopwords\n",
    "from nltk.tokenize import word_tokenize\n",
    "from nltk import pos_tag\n",
    "from collections import Counter\n"
   ]
  },
  {
   "cell_type": "code",
   "execution_count": 8,
   "id": "6841db62-3952-4f69-9a72-ad937fed22a3",
   "metadata": {},
   "outputs": [
    {
     "name": "stderr",
     "output_type": "stream",
     "text": [
      "[nltk_data] Downloading package punkt to\n",
      "[nltk_data]     C:\\Users\\tanis\\AppData\\Roaming\\nltk_data...\n",
      "[nltk_data]   Package punkt is already up-to-date!\n",
      "[nltk_data] Downloading package stopwords to\n",
      "[nltk_data]     C:\\Users\\tanis\\AppData\\Roaming\\nltk_data...\n",
      "[nltk_data]   Package stopwords is already up-to-date!\n",
      "[nltk_data] Downloading package averaged_perceptron_tagger to\n",
      "[nltk_data]     C:\\Users\\tanis\\AppData\\Roaming\\nltk_data...\n",
      "[nltk_data]   Package averaged_perceptron_tagger is already up-to-\n",
      "[nltk_data]       date!\n"
     ]
    },
    {
     "data": {
      "text/plain": [
       "True"
      ]
     },
     "execution_count": 8,
     "metadata": {},
     "output_type": "execute_result"
    }
   ],
   "source": [
    "nltk.download('punkt')\n",
    "nltk.download('stopwords')\n",
    "nltk.download('averaged_perceptron_tagger')"
   ]
  },
  {
   "cell_type": "code",
   "execution_count": 20,
   "id": "b0aa1ddd-9c4e-40d5-8d0e-a63daa09b330",
   "metadata": {},
   "outputs": [
    {
     "name": "stdin",
     "output_type": "stream",
     "text": [
      "Enter your text Hello, i am Tanisha recently learning nltk for ai practical\n"
     ]
    },
    {
     "name": "stdout",
     "output_type": "stream",
     "text": [
      "Tokens from sentence are :  ['Hello', ',', 'i', 'am', 'Tanisha', 'recently', 'learning', 'nltk', 'for', 'ai', 'practical']\n",
      "Frequency count of Tokens are :  Counter({'Hello': 1, ',': 1, 'i': 1, 'am': 1, 'Tanisha': 1, 'recently': 1, 'learning': 1, 'nltk': 1, 'for': 1, 'ai': 1, 'practical': 1})\n",
      "Filter words are :  ['Hello', ',', 'Tanisha', 'recently', 'learning', 'nltk', 'ai', 'practical']\n",
      "Pos from the text are :  [('Hello', 'NNP'), (',', ','), ('i', 'NN'), ('am', 'VBP'), ('Tanisha', 'NNP'), ('recently', 'RB'), ('learning', 'VBG'), ('nltk', 'NN'), ('for', 'IN'), ('ai', 'JJ'), ('practical', 'JJ')]\n"
     ]
    }
   ],
   "source": [
    "def tokenize_text(text):\n",
    "    tokens=word_tokenize(text)\n",
    "    return tokens\n",
    "\n",
    "def count_freq(tokens):\n",
    "    count=Counter(tokens)\n",
    "    return count\n",
    "\n",
    "def rem_stopword(tokens):\n",
    "    stop_word=set(stopwords.words('english'))\n",
    "    filter_word=[word for word in tokens if word not in stop_word]\n",
    "    return filter_word\n",
    "\n",
    "def pos_tagging(tokens):\n",
    "    pos=pos_tag(tokens)\n",
    "    return pos\n",
    "\n",
    "text=input('Enter your text')\n",
    "tokens=tokenize_text(text)\n",
    "count=count_freq(tokens)\n",
    "filter_wo=rem_stopword(tokens)\n",
    "pos=pos_tagging(tokens)\n",
    "\n",
    "print(\"Tokens from sentence are : \",tokens)\n",
    "print(\"Frequency count of Tokens are : \",count)\n",
    "print(\"Filter words are : \",filter_wo)\n",
    "print(\"Pos from the text are : \",pos)\n"
   ]
  },
  {
   "cell_type": "code",
   "execution_count": null,
   "id": "741b3c7d-764d-4634-9f1c-547ef3f2b0e6",
   "metadata": {},
   "outputs": [],
   "source": []
  }
 ],
 "metadata": {
  "kernelspec": {
   "display_name": "Python 3 (ipykernel)",
   "language": "python",
   "name": "python3"
  },
  "language_info": {
   "codemirror_mode": {
    "name": "ipython",
    "version": 3
   },
   "file_extension": ".py",
   "mimetype": "text/x-python",
   "name": "python",
   "nbconvert_exporter": "python",
   "pygments_lexer": "ipython3",
   "version": "3.12.4"
  }
 },
 "nbformat": 4,
 "nbformat_minor": 5
}
