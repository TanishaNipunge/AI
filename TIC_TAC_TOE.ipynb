{
 "cells": [
  {
   "cell_type": "code",
   "execution_count": 5,
   "id": "a6ece729-ed8d-420e-a219-28b9caeacb8e",
   "metadata": {},
   "outputs": [
    {
     "name": "stdout",
     "output_type": "stream",
     "text": [
      "Welcome to Tic Tac Toe!\n",
      "|   |   |   |\n",
      "|   |   |   |\n",
      "|   |   |   |\n"
     ]
    },
    {
     "name": "stdin",
     "output_type": "stream",
     "text": [
      "Enter your move (1-9):  1\n"
     ]
    },
    {
     "name": "stdout",
     "output_type": "stream",
     "text": [
      "| X |   |   |\n",
      "|   |   |   |\n",
      "|   |   |   |\n",
      "Please Wait,AI is making move....\n",
      "| X |   |   |\n",
      "|   | O |   |\n",
      "|   |   |   |\n"
     ]
    },
    {
     "name": "stdin",
     "output_type": "stream",
     "text": [
      "Enter your move (1-9):  3\n"
     ]
    },
    {
     "name": "stdout",
     "output_type": "stream",
     "text": [
      "| X |   | X |\n",
      "|   | O |   |\n",
      "|   |   |   |\n",
      "Please Wait,AI is making move....\n",
      "| X | O | X |\n",
      "|   | O |   |\n",
      "|   |   |   |\n"
     ]
    },
    {
     "name": "stdin",
     "output_type": "stream",
     "text": [
      "Enter your move (1-9):  8\n"
     ]
    },
    {
     "name": "stdout",
     "output_type": "stream",
     "text": [
      "| X | O | X |\n",
      "|   | O |   |\n",
      "|   | X |   |\n",
      "Please Wait,AI is making move....\n",
      "| X | O | X |\n",
      "| O | O |   |\n",
      "|   | X |   |\n"
     ]
    },
    {
     "name": "stdin",
     "output_type": "stream",
     "text": [
      "Enter your move (1-9):  6\n"
     ]
    },
    {
     "name": "stdout",
     "output_type": "stream",
     "text": [
      "| X | O | X |\n",
      "| O | O | X |\n",
      "|   | X |   |\n",
      "Please Wait,AI is making move....\n",
      "| X | O | X |\n",
      "| O | O | X |\n",
      "|   | X | O |\n"
     ]
    },
    {
     "name": "stdin",
     "output_type": "stream",
     "text": [
      "Enter your move (1-9):  7\n"
     ]
    },
    {
     "name": "stdout",
     "output_type": "stream",
     "text": [
      "| X | O | X |\n",
      "| O | O | X |\n",
      "| X | X | O |\n",
      "Its a tie !\n"
     ]
    }
   ],
   "source": [
    "import math\n",
    "import random\n",
    "board = [' ' for _ in range(9)]\n",
    "def print_board():\n",
    "    for row in [board[i*3:(i+1)*3] for i in range(3)]:\n",
    "        print('| ' + ' | '.join(row) + ' |')\n",
    "def is_winner(brd, player):\n",
    "    win_conditions = [\n",
    "        [0, 1, 2], [3, 4, 5], [6, 7, 8], \n",
    "        [0, 3, 6], [1, 4, 7], [2, 5, 8],  \n",
    "        [0, 4, 8], [2, 4, 6]              \n",
    "    ]\n",
    "    for condition in win_conditions:\n",
    "        if all(brd[i] == player for i in condition):\n",
    "            return True\n",
    "    return False\n",
    "def is_full(brd):\n",
    "    return ' ' not in brd\n",
    "def get_available_moves(brd):\n",
    "    return [i for i in range(9) if brd[i] == ' ']\n",
    "def minimax(brd, depth, is_maximizing):\n",
    "    if is_winner(brd, 'O'):\n",
    "        return 1\n",
    "    elif is_winner(brd, 'X'):\n",
    "        return -1\n",
    "    elif is_full(brd):\n",
    "        return 0\n",
    "\n",
    "    if is_maximizing:\n",
    "        best_score = -math.inf\n",
    "        for move in get_available_moves(brd):\n",
    "            brd[move] = 'O'\n",
    "            score = minimax(brd, depth + 1, False)\n",
    "            brd[move] = ' '\n",
    "            best_score = max(score, best_score)\n",
    "        return best_score\n",
    "    else:\n",
    "        best_score = math.inf\n",
    "        for move in get_available_moves(brd):\n",
    "            brd[move] = 'X'\n",
    "            score = minimax(brd, depth + 1, True)\n",
    "            brd[move] = ' '\n",
    "            best_score = min(score, best_score)\n",
    "        return best_score\n",
    "def ai_move():\n",
    "    best_score = -math.inf\n",
    "    best_move = None\n",
    "    for move in get_available_moves(board):\n",
    "        board[move] = 'O'\n",
    "        score = minimax(board, 0, False)\n",
    "\n",
    "        #if random.random() < 0.8:\n",
    "         #   score = minimax(board,0,False)\n",
    "        #else:\n",
    "         #   score = random.randint(-1,1)\n",
    "        board[move] = ' '\n",
    "        if score > best_score:\n",
    "            best_score = score\n",
    "            best_move = move\n",
    "    board[best_move] = 'O'\n",
    "def play_game():\n",
    "    print(\"Welcome to Tic Tac Toe!\")\n",
    "    print_board()\n",
    "\n",
    "    while True:\n",
    "        try:\n",
    "            move = int(input(\"Enter your move (1-9): \")) - 1\n",
    "        except ValueError:\n",
    "            print(\"Invalid input.\")\n",
    "            continue\n",
    "\n",
    "        if move < 0 or move >= 9 or board[move] != ' ':\n",
    "            print(\"Invalid move, try again.\")\n",
    "            continue\n",
    "\n",
    "        board[move] = 'X'\n",
    "        print_board()\n",
    "\n",
    "        if is_winner(board,'X'):\n",
    "           print(\"Congrulations!!! You Win \")\n",
    "           break \n",
    "        elif is_full(board):\n",
    "            print(\"Its a tie !\")\n",
    "            break\n",
    "        print(\"Please Wait,AI is making move....\")\n",
    "        ai_move()\n",
    "        print_board();\n",
    "        if is_winner(board,'O'):\n",
    "            print(\"AI Wins!\")\n",
    "            break\n",
    "        elif is_full(board):\n",
    "            print(\"Its a Tie!!!\")\n",
    "            break\n",
    "\n",
    "if __name__== \"__main__\":\n",
    "    play_game()       "
   ]
  },
  {
   "cell_type": "code",
   "execution_count": null,
   "id": "0605e682-962c-4d9c-a3e0-c17005ec6245",
   "metadata": {},
   "outputs": [],
   "source": []
  },
  {
   "cell_type": "code",
   "execution_count": null,
   "id": "1b62d998-e4ef-4e83-8893-f6eac2540eb1",
   "metadata": {},
   "outputs": [],
   "source": []
  }
 ],
 "metadata": {
  "kernelspec": {
   "display_name": "Python 3 (ipykernel)",
   "language": "python",
   "name": "python3"
  },
  "language_info": {
   "codemirror_mode": {
    "name": "ipython",
    "version": 3
   },
   "file_extension": ".py",
   "mimetype": "text/x-python",
   "name": "python",
   "nbconvert_exporter": "python",
   "pygments_lexer": "ipython3",
   "version": "3.12.4"
  }
 },
 "nbformat": 4,
 "nbformat_minor": 5
}
