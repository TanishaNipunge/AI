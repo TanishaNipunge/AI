{
 "cells": [
  {
   "cell_type": "code",
   "execution_count": 8,
   "id": "3538bf5b-3e25-4450-ad9b-8c94d51a2b48",
   "metadata": {},
   "outputs": [
    {
     "name": "stdout",
     "output_type": "stream",
     "text": [
      "Enter the matrix size\n"
     ]
    },
    {
     "name": "stdin",
     "output_type": "stream",
     "text": [
      "Enter the number of cities (matrix size):  3\n"
     ]
    },
    {
     "name": "stdout",
     "output_type": "stream",
     "text": [
      "Cities: A, B, C\n",
      "Enter the elements of the matrix row-wise, separated by commas:\n"
     ]
    },
    {
     "name": "stdin",
     "output_type": "stream",
     "text": [
      "Enter row A (A,B,C):  0,1,2\n",
      "Enter row B (A,B,C):  1,0,3\n",
      "Enter row C (A,B,C):  5,4,0\n"
     ]
    },
    {
     "name": "stdout",
     "output_type": "stream",
     "text": [
      "\n",
      "Matrix is:\n",
      "   A  B  C\n",
      "A [0, 1, 2]\n",
      "B [1, 0, 3]\n",
      "C [5, 4, 0]\n",
      "Path starting from A: A -> B -> C -> A | Cost: 9\n",
      "Path starting from B: B -> A -> C -> B | Cost: 7\n",
      "Path starting from C: C -> B -> A -> C | Cost: 7\n",
      "\n",
      "Optimal TSP Path: B -> A -> C -> B | Minimum Cost: 7\n"
     ]
    }
   ],
   "source": [
    "print('Enter the matrix size')\n",
    "size = int(input('Enter the number of cities (matrix size): '))  \n",
    "\n",
    "# Generate city labels (A, B, C, ...)\n",
    "labels = [chr(65 + i) for i in range(size)]  \n",
    "\n",
    "arr = []\n",
    "print(f\"Cities: {', '.join(labels)}\")\n",
    "print(\"Enter the elements of the matrix row-wise, separated by commas:\")\n",
    "\n",
    "# Taking input row-wise with validation\n",
    "for i in range(size):\n",
    "    while True:\n",
    "        row_input = list(map(int, input(f\"Enter row {labels[i]} ({','.join(labels)}): \").split(',')))\n",
    "                \n",
    "        if any(x < 0 for x in row_input):\n",
    "            print(\"Error: Distances cannot be negative. Please enter non-negative values.\")\n",
    "            continue\n",
    "            \n",
    "        arr.append(row_input)\n",
    "        break  \n",
    "\n",
    "print(\"\\nMatrix is:\")\n",
    "print(\"  \", \"  \".join(labels))  # Print column labels\n",
    "for i in range(size):\n",
    "    print(labels[i], arr[i])  # Print row label and row values\n",
    "\n",
    "# Nearest Neighbor function\n",
    "def nearest_neighbor(start_city):\n",
    "    visited = set()\n",
    "    path = [start_city]\n",
    "    visited.add(start_city)\n",
    "    current_city = start_city\n",
    "    total_distance = 0\n",
    "\n",
    "    while len(visited) < size:\n",
    "        city_index = labels.index(current_city)\n",
    "        min_distance = float('inf')\n",
    "        nearest_city = None\n",
    "\n",
    "        for i in range(size):\n",
    "            if labels[i] not in visited and arr[city_index][i] < min_distance:\n",
    "                min_distance = arr[city_index][i]\n",
    "                nearest_city = labels[i]\n",
    "\n",
    "        if nearest_city:\n",
    "            path.append(nearest_city)\n",
    "            visited.add(nearest_city)\n",
    "            total_distance += min_distance\n",
    "            current_city = nearest_city\n",
    "        else:\n",
    "            break\n",
    "\n",
    "    # Complete cycle\n",
    "    path.append(start_city)\n",
    "    total_distance += arr[labels.index(current_city)][labels.index(start_city)]\n",
    "    \n",
    "    return path, total_distance\n",
    "\n",
    "# Running for all cities\n",
    "best_path = None\n",
    "min_cost = float('inf')\n",
    "\n",
    "for city in labels:\n",
    "    path, cost = nearest_neighbor(city)\n",
    "    print(f\"Path starting from {city}: {' -> '.join(path)} | Cost: {cost}\")\n",
    "\n",
    "    if cost < min_cost:\n",
    "        min_cost = cost\n",
    "        best_path = path\n",
    "\n",
    "# Displaying optimal path\n",
    "print(f\"\\nOptimal TSP Path: {' -> '.join(best_path)} | Minimum Cost: {min_cost}\")\n"
   ]
  },
  {
   "cell_type": "code",
   "execution_count": null,
   "id": "31c7e91e-ae15-44da-bb68-42761e41aca4",
   "metadata": {},
   "outputs": [],
   "source": []
  }
 ],
 "metadata": {
  "kernelspec": {
   "display_name": "Python 3 (ipykernel)",
   "language": "python",
   "name": "python3"
  },
  "language_info": {
   "codemirror_mode": {
    "name": "ipython",
    "version": 3
   },
   "file_extension": ".py",
   "mimetype": "text/x-python",
   "name": "python",
   "nbconvert_exporter": "python",
   "pygments_lexer": "ipython3",
   "version": "3.12.4"
  }
 },
 "nbformat": 4,
 "nbformat_minor": 5
}
