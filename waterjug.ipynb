{
 "cells": [
  {
   "cell_type": "code",
   "execution_count": 43,
   "id": "48d1ad4b-c1d4-41e9-8e1a-804175d8f09c",
   "metadata": {},
   "outputs": [
    {
     "name": "stdout",
     "output_type": "stream",
     "text": [
      "JAR1\tJAR2\n",
      "0\t0\n",
      "3\t0\n",
      "3\t4\n",
      "0\t4\n",
      "3\t1\n",
      "0\t1\n",
      "1\t0\n",
      "1\t4\n",
      "3\t2\n",
      "Goal Reached!!!\n",
      "0\t3\n",
      "3\t3\n",
      "2\t4\n",
      "Goal Reached!!!\n"
     ]
    }
   ],
   "source": [
    "def pour(jug1,jug2,visited):\n",
    "    max1,max2,fill=3,4,2\n",
    "    if(jug1,jug2) in visited:\n",
    "        return\n",
    "    visited.add((jug1,jug2))\n",
    "    print(f\"{jug1}\\t{jug2}\")\n",
    "    if jug1==fill or jug2==fill:\n",
    "        print(\"Goal Reached!!!\")\n",
    "        return\n",
    "    pour(max1,jug2,visited)\n",
    "    pour(jug1,max2,visited)\n",
    "    pour(0,jug2,visited)\n",
    "    pour(jug1,0,visited)\n",
    "\n",
    "    transfer=min(jug1,max2-jug2)\n",
    "    pour(jug1-transfer,jug2+transfer,visited)\n",
    "    \n",
    "    transfer=min(jug2,max1-jug1)\n",
    "    pour(jug1+transfer,jug2-transfer,visited)\n",
    "\n",
    "print(\"JAR1\\tJAR2\")\n",
    "pour(0,0,set())"
   ]
  },
  {
   "cell_type": "code",
   "execution_count": null,
   "id": "a08e6759-ce54-4e24-a51c-e3234cb5fa2c",
   "metadata": {},
   "outputs": [],
   "source": []
  }
 ],
 "metadata": {
  "kernelspec": {
   "display_name": "Python 3 (ipykernel)",
   "language": "python",
   "name": "python3"
  },
  "language_info": {
   "codemirror_mode": {
    "name": "ipython",
    "version": 3
   },
   "file_extension": ".py",
   "mimetype": "text/x-python",
   "name": "python",
   "nbconvert_exporter": "python",
   "pygments_lexer": "ipython3",
   "version": "3.12.4"
  }
 },
 "nbformat": 4,
 "nbformat_minor": 5
}
